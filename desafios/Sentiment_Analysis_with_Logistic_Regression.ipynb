{
  "nbformat": 4,
  "nbformat_minor": 0,
  "metadata": {
    "colab": {
      "name": "Sentiment-Analysis-with-Logistic-Regression.ipynb",
      "provenance": [],
      "collapsed_sections": [],
      "toc_visible": true,
      "authorship_tag": "ABX9TyOTrvl/SBY4N9W7vYPLVJe7",
      "include_colab_link": true
    },
    "kernelspec": {
      "name": "python3",
      "display_name": "Python 3"
    }
  },
  "cells": [
    {
      "cell_type": "markdown",
      "metadata": {
        "id": "view-in-github",
        "colab_type": "text"
      },
      "source": [
        "<a href=\"https://colab.research.google.com/github/marcostark/Learning-Data-Science/blob/master/desafios/Sentiment_Analysis_with_Logistic_Regression.ipynb\" target=\"_parent\"><img src=\"https://colab.research.google.com/assets/colab-badge.svg\" alt=\"Open In Colab\"/></a>"
      ]
    },
    {
      "cell_type": "markdown",
      "metadata": {
        "id": "1RbT1N-9N8wq",
        "colab_type": "text"
      },
      "source": [
        "# Análise de Sentimento utilizando Regressão Logística"
      ]
    },
    {
      "cell_type": "markdown",
      "metadata": {
        "id": "NhqP4QXHOTFh",
        "colab_type": "text"
      },
      "source": [
        "## Introdução\n",
        "\n",
        "### Sobre o conjunto de dados\n",
        "\n",
        "- O dataset utilizado será do IMDB contendo varias avaliações de filmes, está disponível em: http://ai.stanford.edu/~amaas/data/sentiment\n",
        "\n",
        "  - O dataset contem 25000 avaliações positivas(label=1) e 25000 avaliações negativas(label=0)\n",
        "  - O conjuto de dados possui apenas duas colunas: review(avaliação) e sentiment(sentimento)\n",
        "\n",
        "\n",
        "### Modelo de regressão logística"
      ]
    },
    {
      "cell_type": "markdown",
      "metadata": {
        "id": "2c5_ZYQTOnew",
        "colab_type": "text"
      },
      "source": [
        "### Importando as bibliotecas necessárias para o projeto\n",
        "---"
      ]
    },
    {
      "cell_type": "code",
      "metadata": {
        "id": "Bp7x_NBWOxm_",
        "colab_type": "code",
        "colab": {}
      },
      "source": [
        "import pandas as pd\n",
        "import numpy as np\n",
        "from sklearn.feature_extraction.text import CountVectorizer\n",
        "from sklearn.pipeline import Pipeline\n",
        "from sklearn.linear_model import LogisticRegression\n",
        "from sklearn.feature_extraction.text import TfidfVectorizer\n",
        "from sklearn.model_selection import GridSearchCV\n",
        "from nltk.stem.porter import PorterStemmer\n",
        "import pickle\n"
      ],
      "execution_count": 0,
      "outputs": []
    },
    {
      "cell_type": "code",
      "metadata": {
        "id": "oczVeWL9NOGe",
        "colab_type": "code",
        "outputId": "bd285170-6abf-430f-9e1a-aba753fa9cac",
        "colab": {
          "base_uri": "https://localhost:8080/",
          "height": 197
        }
      },
      "source": [
        "# Carregando o dataset\n",
        "dataset_uri = \"https://raw.githubusercontent.com/marcostark/Learning-Data-Science/master/desafios/datasets/imdb_movie_data.csv\"\n",
        "\n",
        "df_movies = pd.read_csv(dataset_uri)\n",
        "df_movies.head()"
      ],
      "execution_count": 0,
      "outputs": [
        {
          "output_type": "execute_result",
          "data": {
            "text/html": [
              "<div>\n",
              "<style scoped>\n",
              "    .dataframe tbody tr th:only-of-type {\n",
              "        vertical-align: middle;\n",
              "    }\n",
              "\n",
              "    .dataframe tbody tr th {\n",
              "        vertical-align: top;\n",
              "    }\n",
              "\n",
              "    .dataframe thead th {\n",
              "        text-align: right;\n",
              "    }\n",
              "</style>\n",
              "<table border=\"1\" class=\"dataframe\">\n",
              "  <thead>\n",
              "    <tr style=\"text-align: right;\">\n",
              "      <th></th>\n",
              "      <th>review</th>\n",
              "      <th>sentiment</th>\n",
              "    </tr>\n",
              "  </thead>\n",
              "  <tbody>\n",
              "    <tr>\n",
              "      <th>0</th>\n",
              "      <td>In 1974, the teenager Martha Moxley (Maggie Gr...</td>\n",
              "      <td>1</td>\n",
              "    </tr>\n",
              "    <tr>\n",
              "      <th>1</th>\n",
              "      <td>OK... so... I really like Kris Kristofferson a...</td>\n",
              "      <td>0</td>\n",
              "    </tr>\n",
              "    <tr>\n",
              "      <th>2</th>\n",
              "      <td>***SPOILER*** Do not read this, if you think a...</td>\n",
              "      <td>0</td>\n",
              "    </tr>\n",
              "    <tr>\n",
              "      <th>3</th>\n",
              "      <td>hi for all the people who have seen this wonde...</td>\n",
              "      <td>1</td>\n",
              "    </tr>\n",
              "    <tr>\n",
              "      <th>4</th>\n",
              "      <td>I recently bought the DVD, forgetting just how...</td>\n",
              "      <td>0</td>\n",
              "    </tr>\n",
              "  </tbody>\n",
              "</table>\n",
              "</div>"
            ],
            "text/plain": [
              "                                              review  sentiment\n",
              "0  In 1974, the teenager Martha Moxley (Maggie Gr...          1\n",
              "1  OK... so... I really like Kris Kristofferson a...          0\n",
              "2  ***SPOILER*** Do not read this, if you think a...          0\n",
              "3  hi for all the people who have seen this wonde...          1\n",
              "4  I recently bought the DVD, forgetting just how...          0"
            ]
          },
          "metadata": {
            "tags": []
          },
          "execution_count": 2
        }
      ]
    },
    {
      "cell_type": "code",
      "metadata": {
        "id": "5soB9qD5PNvL",
        "colab_type": "code",
        "outputId": "ca3f9e2e-5e57-4201-9c64-78e74f73f920",
        "colab": {
          "base_uri": "https://localhost:8080/",
          "height": 34
        }
      },
      "source": [
        "# Total de avalições\n",
        "print(df_movies.shape)"
      ],
      "execution_count": 0,
      "outputs": [
        {
          "output_type": "stream",
          "text": [
            "(50000, 2)\n"
          ],
          "name": "stdout"
        }
      ]
    },
    {
      "cell_type": "code",
      "metadata": {
        "id": "6KOB-ZXbSmSq",
        "colab_type": "code",
        "outputId": "d8259356-7951-43b1-a6eb-87e75c582751",
        "colab": {
          "base_uri": "https://localhost:8080/",
          "height": 34
        }
      },
      "source": [
        "df_movies.columns"
      ],
      "execution_count": 0,
      "outputs": [
        {
          "output_type": "execute_result",
          "data": {
            "text/plain": [
              "Index(['review', 'sentiment'], dtype='object')"
            ]
          },
          "metadata": {
            "tags": []
          },
          "execution_count": 30
        }
      ]
    },
    {
      "cell_type": "code",
      "metadata": {
        "id": "NJzAwG-SRs5I",
        "colab_type": "code",
        "outputId": "ae6de039-4839-4fb1-ca15-36a924ea819a",
        "colab": {
          "base_uri": "https://localhost:8080/",
          "height": 121
        }
      },
      "source": [
        "# Labels do dataset: (label=1), Negativo(label=0)\n",
        "df_movies.set_index(['review', 'sentiment']).count(level='sentiment')"
      ],
      "execution_count": 0,
      "outputs": [
        {
          "output_type": "execute_result",
          "data": {
            "text/html": [
              "<div>\n",
              "<style scoped>\n",
              "    .dataframe tbody tr th:only-of-type {\n",
              "        vertical-align: middle;\n",
              "    }\n",
              "\n",
              "    .dataframe tbody tr th {\n",
              "        vertical-align: top;\n",
              "    }\n",
              "\n",
              "    .dataframe thead th {\n",
              "        text-align: right;\n",
              "    }\n",
              "</style>\n",
              "<table border=\"1\" class=\"dataframe\">\n",
              "  <thead>\n",
              "    <tr style=\"text-align: right;\">\n",
              "      <th></th>\n",
              "    </tr>\n",
              "    <tr>\n",
              "      <th>sentiment</th>\n",
              "    </tr>\n",
              "  </thead>\n",
              "  <tbody>\n",
              "    <tr>\n",
              "      <th>0</th>\n",
              "    </tr>\n",
              "    <tr>\n",
              "      <th>1</th>\n",
              "    </tr>\n",
              "  </tbody>\n",
              "</table>\n",
              "</div>"
            ],
            "text/plain": [
              "Empty DataFrame\n",
              "Columns: []\n",
              "Index: [0, 1]"
            ]
          },
          "metadata": {
            "tags": []
          },
          "execution_count": 24
        }
      ]
    },
    {
      "cell_type": "code",
      "metadata": {
        "id": "AbMJGDSwTEqz",
        "colab_type": "code",
        "outputId": "5aeda5d9-5557-44a7-8dbb-c1c54a5906f3",
        "colab": {
          "base_uri": "https://localhost:8080/",
          "height": 70
        }
      },
      "source": [
        "# Número de labels que representam sentimento positivo\n",
        "df_movies[df_movies.sentiment==1].count()"
      ],
      "execution_count": 0,
      "outputs": [
        {
          "output_type": "execute_result",
          "data": {
            "text/plain": [
              "review       25000\n",
              "sentiment    25000\n",
              "dtype: int64"
            ]
          },
          "metadata": {
            "tags": []
          },
          "execution_count": 25
        }
      ]
    },
    {
      "cell_type": "code",
      "metadata": {
        "id": "v_o43P-_TRnd",
        "colab_type": "code",
        "outputId": "a2c2afea-93d0-418f-f78f-51b89adb68e7",
        "colab": {
          "base_uri": "https://localhost:8080/",
          "height": 70
        }
      },
      "source": [
        "# Número de labels que representam sentimento negativo\n",
        "df_movies[df_movies.sentiment==0].count()"
      ],
      "execution_count": 0,
      "outputs": [
        {
          "output_type": "execute_result",
          "data": {
            "text/plain": [
              "review       25000\n",
              "sentiment    25000\n",
              "dtype: int64"
            ]
          },
          "metadata": {
            "tags": []
          },
          "execution_count": 26
        }
      ]
    },
    {
      "cell_type": "markdown",
      "metadata": {
        "id": "dQFk_8ZSWc48",
        "colab_type": "text"
      },
      "source": [
        "## Transformando documentos em vetores"
      ]
    },
    {
      "cell_type": "code",
      "metadata": {
        "id": "NdQDgN8Jr4bR",
        "colab_type": "code",
        "colab": {}
      },
      "source": [
        "count = CountVectorizer()\n",
        "\n",
        "docs = np.array(['The sun is shinnig',\n",
        "                 'The weather is sweet',\n",
        "                 'The sun if shinning, the weather is sweet and one and one is two'])\n",
        "\n",
        "bag = count.fit_transform(docs)"
      ],
      "execution_count": 0,
      "outputs": []
    },
    {
      "cell_type": "code",
      "metadata": {
        "id": "cEQwjGXIsah_",
        "colab_type": "code",
        "outputId": "3d7f8b7e-83ea-4bb2-b326-dcba1e0bafba",
        "colab": {
          "base_uri": "https://localhost:8080/",
          "height": 70
        }
      },
      "source": [
        "print(bag.toarray())"
      ],
      "execution_count": 0,
      "outputs": [
        {
          "output_type": "stream",
          "text": [
            "[[0 0 1 0 1 0 1 0 1 0 0]\n",
            " [0 0 1 0 0 0 0 1 1 0 1]\n",
            " [2 1 2 2 0 1 1 1 2 1 1]]\n"
          ],
          "name": "stdout"
        }
      ]
    },
    {
      "cell_type": "code",
      "metadata": {
        "id": "gdm_GTDGswIR",
        "colab_type": "code",
        "outputId": "8aa3c379-79f3-4d0d-e946-df93e9787a18",
        "colab": {
          "base_uri": "https://localhost:8080/",
          "height": 34
        }
      },
      "source": [
        "term = df_movies.loc[0,'review'][-50:]\n",
        "term"
      ],
      "execution_count": 0,
      "outputs": [
        {
          "output_type": "execute_result",
          "data": {
            "text/plain": [
              "'zation my vote is seven title brazil not available'"
            ]
          },
          "metadata": {
            "tags": []
          },
          "execution_count": 47
        }
      ]
    },
    {
      "cell_type": "markdown",
      "metadata": {
        "id": "CpYVJXGEWrzq",
        "colab_type": "text"
      },
      "source": [
        "## Preparação dos dados"
      ]
    },
    {
      "cell_type": "code",
      "metadata": {
        "id": "V4wQ8w-Ws5-n",
        "colab_type": "code",
        "colab": {}
      },
      "source": [
        "import re\n",
        "\n",
        "def preprocessor(text):\n",
        "  text = re.sub('<[^>]*>','',text)\n",
        "  emoticons = re.findall('(?::|;|=)(?:-)?(?:\\)|\\(|D|P)', text)\n",
        "  text = re.sub('[\\W]+',' ', text.lower()) +\\\n",
        "    ' '.join(emoticons).replace('-', '')\n",
        "  return text"
      ],
      "execution_count": 0,
      "outputs": []
    },
    {
      "cell_type": "code",
      "metadata": {
        "id": "k_wWZf10uGx_",
        "colab_type": "code",
        "outputId": "86dbbb95-5603-4c7c-e41e-6b1c8435f067",
        "colab": {
          "base_uri": "https://localhost:8080/",
          "height": 34
        }
      },
      "source": [
        "print(preprocessor(term))"
      ],
      "execution_count": 0,
      "outputs": [
        {
          "output_type": "stream",
          "text": [
            "zation my vote is seven title brazil not available\n"
          ],
          "name": "stdout"
        }
      ]
    },
    {
      "cell_type": "code",
      "metadata": {
        "id": "s58HgnN4udiG",
        "colab_type": "code",
        "outputId": "5e87cd76-bc94-4da4-a340-1ad2bffcbbfe",
        "colab": {
          "base_uri": "https://localhost:8080/",
          "height": 34
        }
      },
      "source": [
        "print(preprocessor(\"</a>This ;) is a :( test :-)!\"))"
      ],
      "execution_count": 0,
      "outputs": [
        {
          "output_type": "stream",
          "text": [
            "this is a test ;) :( :)\n"
          ],
          "name": "stdout"
        }
      ]
    },
    {
      "cell_type": "code",
      "metadata": {
        "id": "404NAr5ZurIW",
        "colab_type": "code",
        "colab": {}
      },
      "source": [
        "df_movies['review'] = df_movies['review'].apply(preprocessor)"
      ],
      "execution_count": 0,
      "outputs": []
    },
    {
      "cell_type": "markdown",
      "metadata": {
        "id": "Fve2HH1EWu3n",
        "colab_type": "text"
      },
      "source": [
        "## Etapa de tokenização dos dados\n",
        "\n",
        "- Consiste oo processo que divide uma sentença em unidades mais básicas"
      ]
    },
    {
      "cell_type": "code",
      "metadata": {
        "id": "MxYRI3U7u7KF",
        "colab_type": "code",
        "colab": {}
      },
      "source": [
        "porter = PorterStemmer()\n",
        "\n",
        "def tokenizer(text):\n",
        "  return text.split()\n",
        "\n",
        "def tokenizer_porter(text):\n",
        "  return [porter.stem(word) for word in text.split()]"
      ],
      "execution_count": 0,
      "outputs": []
    },
    {
      "cell_type": "code",
      "metadata": {
        "id": "RFxERDX3vMYO",
        "colab_type": "code",
        "outputId": "a7ae97ad-2506-41d3-e5b3-cc1b73481257",
        "colab": {
          "base_uri": "https://localhost:8080/",
          "height": 34
        }
      },
      "source": [
        "tokenizer('Luminous beings are we. Not this crude matter.')"
      ],
      "execution_count": 0,
      "outputs": [
        {
          "output_type": "execute_result",
          "data": {
            "text/plain": [
              "['Luminous', 'beings', 'are', 'we.', 'Not', 'this', 'crude', 'matter.']"
            ]
          },
          "metadata": {
            "tags": []
          },
          "execution_count": 53
        }
      ]
    },
    {
      "cell_type": "code",
      "metadata": {
        "id": "ju4Gfk5yvSTO",
        "colab_type": "code",
        "outputId": "aba9b07e-b190-4dfa-87b7-6b7f74928c76",
        "colab": {
          "base_uri": "https://localhost:8080/",
          "height": 34
        }
      },
      "source": [
        "tokenizer_porter('Luminous beings are we. Not this crude matter.')"
      ],
      "execution_count": 0,
      "outputs": [
        {
          "output_type": "execute_result",
          "data": {
            "text/plain": [
              "['lumin', 'be', 'are', 'we.', 'not', 'thi', 'crude', 'matter.']"
            ]
          },
          "metadata": {
            "tags": []
          },
          "execution_count": 54
        }
      ]
    },
    {
      "cell_type": "code",
      "metadata": {
        "id": "M9-i5RHWvZDR",
        "colab_type": "code",
        "outputId": "e9918a3e-bf8b-4af3-9636-6466ff4f576a",
        "colab": {
          "base_uri": "https://localhost:8080/",
          "height": 70
        }
      },
      "source": [
        "import nltk\n",
        "\n",
        "nltk.download('stopwords')"
      ],
      "execution_count": 0,
      "outputs": [
        {
          "output_type": "stream",
          "text": [
            "[nltk_data] Downloading package stopwords to /root/nltk_data...\n",
            "[nltk_data]   Package stopwords is already up-to-date!\n"
          ],
          "name": "stdout"
        },
        {
          "output_type": "execute_result",
          "data": {
            "text/plain": [
              "True"
            ]
          },
          "metadata": {
            "tags": []
          },
          "execution_count": 55
        }
      ]
    },
    {
      "cell_type": "code",
      "metadata": {
        "id": "xq_C_WBYvbrv",
        "colab_type": "code",
        "outputId": "3b0108ca-95a5-4529-fa85-ad205628df98",
        "colab": {
          "base_uri": "https://localhost:8080/",
          "height": 34
        }
      },
      "source": [
        "from nltk.corpus import stopwords\n",
        "\n",
        "stop = stopwords.words('english')\n",
        "[w for w in tokenizer_porter('Luminous beings are we. Not this crude matter.')[-10:] if w not in stop]"
      ],
      "execution_count": 0,
      "outputs": [
        {
          "output_type": "execute_result",
          "data": {
            "text/plain": [
              "['lumin', 'we.', 'thi', 'crude', 'matter.']"
            ]
          },
          "metadata": {
            "tags": []
          },
          "execution_count": 56
        }
      ]
    },
    {
      "cell_type": "markdown",
      "metadata": {
        "id": "QUC95iD-wBX-",
        "colab_type": "text"
      },
      "source": [
        "## Transformando documentos em vetores TF-IDF\n",
        "\n",
        "- TF-IDF (Term Frequency - Inverse Document Frequency) - utilizado para diminuir\n",
        "a importância das palabreas exibidas em muitos documentos em comum, que são consideradas de discernir os documentos, em vez de simplesmente contas a frequência das oalavras, como é feito com o CountVectorizer."
      ]
    },
    {
      "cell_type": "code",
      "metadata": {
        "id": "5-78i05dv683",
        "colab_type": "code",
        "colab": {}
      },
      "source": [
        "tfidf = TfidfVectorizer(strip_accents=None,\n",
        "                        lowercase=False,\n",
        "                        preprocessor=None,\n",
        "                        tokenizer = tokenizer_porter,\n",
        "                        use_idf=True,\n",
        "                        norm='l2',\n",
        "                        smooth_idf=True)\n",
        "\n",
        "y = df_movies.sentiment.values\n",
        "X = tfidf.fit_transform(df_movies.review)"
      ],
      "execution_count": 0,
      "outputs": []
    },
    {
      "cell_type": "markdown",
      "metadata": {
        "id": "2GeUQWc5W0ql",
        "colab_type": "text"
      },
      "source": [
        "## Classficando documentos utilizando modelo de regressão logística"
      ]
    },
    {
      "cell_type": "code",
      "metadata": {
        "id": "i0duJ9zvvRnm",
        "colab_type": "code",
        "colab": {}
      },
      "source": [
        "from sklearn.model_selection import train_test_split\n",
        "\n",
        "X_train, X_test, y_train, y_test = train_test_split(X, y, random_state=1, test_size=0.5, shuffle=False)"
      ],
      "execution_count": 0,
      "outputs": []
    },
    {
      "cell_type": "code",
      "metadata": {
        "id": "r5TGhQHyW94W",
        "colab_type": "code",
        "outputId": "d2521d49-6ea6-46e5-b7fa-336875ac0179",
        "colab": {
          "base_uri": "https://localhost:8080/",
          "height": 52
        }
      },
      "source": [
        "from sklearn.linear_model import LogisticRegressionCV\n",
        "\n",
        "clf = LogisticRegressionCV(\n",
        "    cv=5,\n",
        "    scoring='accuracy',\n",
        "    random_state=0,\n",
        "    n_jobs=-1,\n",
        "    verbose=3,\n",
        "    max_iter=300).fit(X_train, y_train)\n",
        "\n",
        "## Salvando modelo em um arquivo\n",
        "save_model = open('sentiment_analysis_model.sav', 'wb')\n",
        "pickle.dump(clf, save_model)\n",
        "save_model.close()"
      ],
      "execution_count": 0,
      "outputs": [
        {
          "output_type": "stream",
          "text": [
            "[Parallel(n_jobs=-1)]: Using backend LokyBackend with 2 concurrent workers.\n",
            "[Parallel(n_jobs=-1)]: Done   5 out of   5 | elapsed:  2.4min finished\n"
          ],
          "name": "stderr"
        }
      ]
    },
    {
      "cell_type": "markdown",
      "metadata": {
        "id": "grFK_Y4WXF9F",
        "colab_type": "text"
      },
      "source": [
        "## Carregando arquivo e verificação precisão do modelo"
      ]
    },
    {
      "cell_type": "code",
      "metadata": {
        "id": "vGu6QU0mPIlD",
        "colab_type": "code",
        "colab": {}
      },
      "source": [
        "file_model = 'sentiment_analysis_model.sav'\n",
        "\n",
        "save_clf = pickle.load(open(file_model,'rb'))"
      ],
      "execution_count": 0,
      "outputs": []
    },
    {
      "cell_type": "code",
      "metadata": {
        "id": "ISrAjpSf8KjD",
        "colab_type": "code",
        "outputId": "55cdcd95-1555-4dbf-85d0-bbc381dc3d6a",
        "colab": {
          "base_uri": "https://localhost:8080/",
          "height": 34
        }
      },
      "source": [
        "print('Precisão do teste: {:.3f}'.format(save_clf.score(X_test, y_test)))"
      ],
      "execution_count": 0,
      "outputs": [
        {
          "output_type": "stream",
          "text": [
            "Precisão do teste: 0.896\n"
          ],
          "name": "stdout"
        }
      ]
    }
  ]
}